{
 "cells": [
  {
   "cell_type": "markdown",
   "id": "7068e2e5",
   "metadata": {},
   "source": [
    "Goal: Automated table extraction for knowledge graph development. [Camelot](https://camelot-py.readthedocs.io/en/master/) provides tools to extract tables from pdf's to pandas data frames. The pdf is \"Appendix C\" that describes the data format for the form “OPNAV 4790/2K”. A useful [medium article](https://medium.com/@luchensf/retrieve-table-contents-from-pdf-df514b779d07) on extracting tables using Camelot."
   ]
  },
  {
   "cell_type": "markdown",
   "id": "78c0796f",
   "metadata": {},
   "source": [
    "## Install camelot from conda forge\n",
    "```bash\n",
    "mamba install -c conda-forge camelot-py\n",
    "```\n",
    "\n",
    "### Note:\n",
    "Installation using mamba from the condaforge channel installs the ghostscript gs excutable dependency in the environments bin directory which probably won't be in your path. To fix this:\n",
    "\n",
    "```bash\n",
    "export PATH=/Users/cvardema/mambaforge/envs/pdfmunge/bin:$PATH\n",
    "```\n",
    "\n",
    "Additionally and annoyingly, conda installs the python [ghostscript](https://pypi.org/project/ghostscript/) package in the user site packages directory (.local) which may not be in the python path. Here I used sys.path.insert to insert the .local/lib/python3.10/site-packages into the correct python path.\n",
    "\n",
    "Both of these paths (executable and module) must be set correctly or camelot will fail with irritating module not found error messages.\n"
   ]
  },
  {
   "cell_type": "code",
   "execution_count": 9,
   "id": "fc36dc1f",
   "metadata": {},
   "outputs": [
    {
     "name": "stdout",
     "output_type": "stream",
     "text": [
      "['/Users/ccunnin8/.local/lib/python3.10/site-packages', '/Users/ccunnin8/.local/lib/python3.10/site-packages', '/home/ccunnin8/git/decoder-ring', '/home/ccunnin8/mambaforge/envs/pdfmunge/lib/python310.zip', '/home/ccunnin8/mambaforge/envs/pdfmunge/lib/python3.10', '/home/ccunnin8/mambaforge/envs/pdfmunge/lib/python3.10/lib-dynload', '', '/home/ccunnin8/.local/lib/python3.10/site-packages', '/home/ccunnin8/mambaforge/envs/pdfmunge/lib/python3.10/site-packages']\n"
     ]
    }
   ],
   "source": [
    "!export PATH=/Users/ccunnin8/mambaforge/envs/pdfmunge/bin:$PATH\n",
    "import sys\n",
    "sys.path.insert(0, \"/Users/ccunnin8/.local/lib/python3.10/site-packages\")\n",
    "print(sys.path)"
   ]
  },
  {
   "cell_type": "code",
   "execution_count": 10,
   "id": "7242a231",
   "metadata": {},
   "outputs": [],
   "source": [
    "import camelot\n",
    "from camelot import utils\n",
    "from pathlib import Path"
   ]
  },
  {
   "cell_type": "code",
   "execution_count": 11,
   "id": "7479b620",
   "metadata": {},
   "outputs": [],
   "source": [
    "import ghostscript"
   ]
  },
  {
   "cell_type": "code",
   "execution_count": 14,
   "id": "d9543927",
   "metadata": {},
   "outputs": [],
   "source": [
    "datapath = Path('./data')\n",
    "pdf_table_reader = camelot.read_pdf('./data/JFMM-VI-19-2K.pdf',pages='all')"
   ]
  },
  {
   "cell_type": "code",
   "execution_count": 15,
   "id": "8ef2bb38",
   "metadata": {},
   "outputs": [
    {
     "name": "stdout",
     "output_type": "stream",
     "text": [
      "Number of Tables detected:  47\n",
      "{'accuracy': 100.0, 'whitespace': 0.0, 'order': 1, 'page': 3}\n"
     ]
    }
   ],
   "source": [
    "print(\"Number of Tables detected: \", pdf_table_reader.n)\n",
    "print(pdf_table_reader[0].parsing_report)"
   ]
  },
  {
   "cell_type": "markdown",
   "id": "c75c2075",
   "metadata": {},
   "source": [
    "- Pandas df index 0: When Discovered Codes\n",
    "- Pandas df index 1: Status Codes\n",
    "- Pandas df index 2: Cause Codes\n",
    "- Pandas df index 3-4: Deferral Codes\n",
    "- Pandas df index 5: Safety Hazard Codes\n",
    "- Pandas df index 6: Alteration Type Codes\n",
    "- Pandas df index 7: Rank or Rate Codes\n",
    "- Pandas df index 8: Priority Codes\n",
    "- Pandas df index 9-10: Type Availiability Codes/Usage of Type Availiability Codes\n",
    "- Pandas df index 11-12: Action To be Taken Codes\n",
    "- Pandas df index 13-18: Action Taken Codes Part 1 (Verify on HTTPS://OARS.NSLC.NAVY.MIL/OARS/DOCS/REF/INDEX.HTML)\n",
    "- Pandas df index 19: When Discovered Codes\n",
    "- Pandas df index 20: Status Codes\n",
    "- Pandas df index 21: Cause Codes\n",
    "- Pandas df index 22: Safety Hazard Codes\n",
    "- Pandas df index 23-26: Action Taken Codes Part 2\n",
    "\n",
    "- Pandas df index 27-47: Junk\n",
    "\n",
    "\n",
    "\n"
   ]
  },
  {
   "cell_type": "code",
   "execution_count": 44,
   "id": "b1f7dd45",
   "metadata": {},
   "outputs": [
    {
     "data": {
      "text/html": [
       "<div>\n",
       "<style scoped>\n",
       "    .dataframe tbody tr th:only-of-type {\n",
       "        vertical-align: middle;\n",
       "    }\n",
       "\n",
       "    .dataframe tbody tr th {\n",
       "        vertical-align: top;\n",
       "    }\n",
       "\n",
       "    .dataframe thead th {\n",
       "        text-align: right;\n",
       "    }\n",
       "</style>\n",
       "<table border=\"1\" class=\"dataframe\">\n",
       "  <thead>\n",
       "    <tr style=\"text-align: right;\">\n",
       "      <th></th>\n",
       "      <th>0</th>\n",
       "    </tr>\n",
       "  </thead>\n",
       "  <tbody>\n",
       "    <tr>\n",
       "      <th>0</th>\n",
       "      <td></td>\n",
       "    </tr>\n",
       "    <tr>\n",
       "      <th>1</th>\n",
       "      <td></td>\n",
       "    </tr>\n",
       "    <tr>\n",
       "      <th>2</th>\n",
       "      <td></td>\n",
       "    </tr>\n",
       "    <tr>\n",
       "      <th>3</th>\n",
       "      <td></td>\n",
       "    </tr>\n",
       "    <tr>\n",
       "      <th>4</th>\n",
       "      <td></td>\n",
       "    </tr>\n",
       "    <tr>\n",
       "      <th>5</th>\n",
       "      <td></td>\n",
       "    </tr>\n",
       "    <tr>\n",
       "      <th>6</th>\n",
       "      <td></td>\n",
       "    </tr>\n",
       "    <tr>\n",
       "      <th>7</th>\n",
       "      <td></td>\n",
       "    </tr>\n",
       "  </tbody>\n",
       "</table>\n",
       "</div>"
      ],
      "text/plain": [
       "  0\n",
       "0  \n",
       "1  \n",
       "2  \n",
       "3  \n",
       "4  \n",
       "5  \n",
       "6  \n",
       "7  "
      ]
     },
     "execution_count": 44,
     "metadata": {},
     "output_type": "execute_result"
    }
   ],
   "source": [
    "pdf_table_reader [29].df"
   ]
  },
  {
   "cell_type": "code",
   "execution_count": 7,
   "id": "d6fc1cf3",
   "metadata": {},
   "outputs": [],
   "source": [
    "import pandas as pd\n",
    "table_c1 = pdf_table_reader[0].df\n",
    "for index in range(1,14):\n",
    "    table_c1.merge(pdf_table_reader[index].df)\n",
    "table_c1.to_csv('junk.csv')"
   ]
  },
  {
   "cell_type": "code",
   "execution_count": 8,
   "id": "18b95325",
   "metadata": {},
   "outputs": [],
   "source": [
    "\n",
    "for index in range(0,14):\n",
    "    file_name = \"./data/2k_datastruct_\" + str(index) + \".csv\"\n",
    "    pdf_table_reader[index].df.to_csv(file_name)"
   ]
  }
 ],
 "metadata": {
  "kernelspec": {
   "display_name": "Python 3.10.6 ('pdfmunge')",
   "language": "python",
   "name": "python3"
  },
  "language_info": {
   "codemirror_mode": {
    "name": "ipython",
    "version": 3
   },
   "file_extension": ".py",
   "mimetype": "text/x-python",
   "name": "python",
   "nbconvert_exporter": "python",
   "pygments_lexer": "ipython3",
   "version": "3.10.6"
  },
  "vscode": {
   "interpreter": {
    "hash": "0cf4b5e1b20bc082f9f80c3c530d58121777aa71fd4e64b794d5ceab7a23d8ce"
   }
  }
 },
 "nbformat": 4,
 "nbformat_minor": 5
}
