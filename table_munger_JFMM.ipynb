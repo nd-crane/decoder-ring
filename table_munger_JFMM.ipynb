{
 "cells": [
  {
   "cell_type": "markdown",
   "id": "7068e2e5",
   "metadata": {},
   "source": [
    "Goal: Automated table extraction for knowledge graph development. [Camelot](https://camelot-py.readthedocs.io/en/master/) provides tools to extract tables from pdf's to pandas data frames. The pdf is \"Appendix C\" that describes the data format for the form “OPNAV 4790/2K”. A useful [medium article](https://medium.com/@luchensf/retrieve-table-contents-from-pdf-df514b779d07) on extracting tables using Camelot."
   ]
  },
  {
   "cell_type": "markdown",
   "id": "78c0796f",
   "metadata": {},
   "source": [
    "## Install camelot from conda forge\n",
    "```bash\n",
    "mamba install -c conda-forge camelot-py\n",
    "```\n",
    "\n",
    "### Note:\n",
    "Installation using mamba from the condaforge channel installs the ghostscript gs excutable dependency in the environments bin directory which probably won't be in your path. To fix this:\n",
    "\n",
    "```bash\n",
    "export PATH=/Users/cvardema/mambaforge/envs/pdfmunge/bin:$PATH\n",
    "```\n",
    "\n",
    "Additionally and annoyingly, conda installs the python [ghostscript](https://pypi.org/project/ghostscript/) package in the user site packages directory (.local) which may not be in the python path. Here I used sys.path.insert to insert the .local/lib/python3.10/site-packages into the correct python path.\n",
    "\n",
    "Both of these paths (executable and module) must be set correctly or camelot will fail with irritating module not found error messages.\n"
   ]
  },
  {
   "cell_type": "code",
   "execution_count": 1,
   "id": "fc36dc1f",
   "metadata": {},
   "outputs": [
    {
     "name": "stdout",
     "output_type": "stream",
     "text": [
      "['/Users/ccunnin8/.local/lib/python3.10/site-packages', '/home/ccunnin8/git/decoder-ring', '/home/ccunnin8/mambaforge/envs/pdfmunge/lib/python310.zip', '/home/ccunnin8/mambaforge/envs/pdfmunge/lib/python3.10', '/home/ccunnin8/mambaforge/envs/pdfmunge/lib/python3.10/lib-dynload', '', '/home/ccunnin8/.local/lib/python3.10/site-packages', '/home/ccunnin8/mambaforge/envs/pdfmunge/lib/python3.10/site-packages']\n"
     ]
    }
   ],
   "source": [
    "!export PATH=/Users/ccunnin8/mambaforge/envs/pdfmunge/bin:$PATH\n",
    "import sys\n",
    "sys.path.insert(0, \"/Users/ccunnin8/.local/lib/python3.10/site-packages\")\n",
    "print(sys.path)"
   ]
  },
  {
   "cell_type": "code",
   "execution_count": 2,
   "id": "7242a231",
   "metadata": {},
   "outputs": [],
   "source": [
    "import camelot\n",
    "from camelot import utils\n",
    "from pathlib import Path"
   ]
  },
  {
   "cell_type": "code",
   "execution_count": 3,
   "id": "7479b620",
   "metadata": {},
   "outputs": [],
   "source": [
    "import ghostscript"
   ]
  },
  {
   "cell_type": "code",
   "execution_count": 4,
   "id": "d9543927",
   "metadata": {},
   "outputs": [],
   "source": [
    "datapath = Path('./data')\n",
    "pdf_table_reader = camelot.read_pdf('./data/JFMM-VI-19-2K.pdf',pages='all')"
   ]
  },
  {
   "cell_type": "code",
   "execution_count": 5,
   "id": "8ef2bb38",
   "metadata": {},
   "outputs": [
    {
     "name": "stdout",
     "output_type": "stream",
     "text": [
      "Number of Tables detected:  47\n",
      "{'accuracy': 100.0, 'whitespace': 0.0, 'order': 1, 'page': 3}\n"
     ]
    }
   ],
   "source": [
    "print(\"Number of Tables detected: \", pdf_table_reader.n)\n",
    "print(pdf_table_reader[0].parsing_report)"
   ]
  },
  {
   "cell_type": "markdown",
   "id": "c75c2075",
   "metadata": {},
   "source": [
    "- Pandas df index 0: When Discovered Codes\n",
    "- Pandas df index 1: Status Codes\n",
    "- Pandas df index 2: Cause Codes\n",
    "- Pandas df index 3-4: Deferral Codes\n",
    "- Pandas df index 5: Safety Hazard Codes\n",
    "- Pandas df index 6: Alteration Type Codes\n",
    "- Pandas df index 7: Rank or Rate Codes\n",
    "- Pandas df index 8: Priority Codes\n",
    "- Pandas df index 9-10: Type Availiability Codes/Usage of Type Availiability Codes\n",
    "- Pandas df index 11-12: Action To be Taken Codes\n",
    "- Pandas df index 13-18: Action Taken Codes Part 1 (Verify on HTTPS://OARS.NSLC.NAVY.MIL/OARS/DOCS/REF/INDEX.HTML)\n",
    "- Pandas df index 19: When Discovered Codes\n",
    "- Pandas df index 20: Status Codes\n",
    "- Pandas df index 21: Cause Codes\n",
    "- Pandas df index 22: Safety Hazard Codes\n",
    "- Pandas df index 23-26: Action Taken Codes Part 2\n",
    "\n",
    "- Pandas df index 27-47: Junk\n",
    "\n",
    "\n",
    "\n"
   ]
  },
  {
   "cell_type": "code",
   "execution_count": 124,
   "id": "b1f7dd45",
   "metadata": {},
   "outputs": [
    {
     "data": {
      "text/html": [
       "<div>\n",
       "<style scoped>\n",
       "    .dataframe tbody tr th:only-of-type {\n",
       "        vertical-align: middle;\n",
       "    }\n",
       "\n",
       "    .dataframe tbody tr th {\n",
       "        vertical-align: top;\n",
       "    }\n",
       "\n",
       "    .dataframe thead th {\n",
       "        text-align: right;\n",
       "    }\n",
       "</style>\n",
       "<table border=\"1\" class=\"dataframe\">\n",
       "  <thead>\n",
       "    <tr style=\"text-align: right;\">\n",
       "      <th></th>\n",
       "      <th>0</th>\n",
       "      <th>1</th>\n",
       "      <th>2</th>\n",
       "    </tr>\n",
       "  </thead>\n",
       "  <tbody>\n",
       "    <tr>\n",
       "      <th>0</th>\n",
       "      <td>Table 12 - Action Taken Codes</td>\n",
       "      <td></td>\n",
       "      <td></td>\n",
       "    </tr>\n",
       "    <tr>\n",
       "      <th>1</th>\n",
       "      <td>Code</td>\n",
       "      <td>Description</td>\n",
       "      <td></td>\n",
       "    </tr>\n",
       "    <tr>\n",
       "      <th>2</th>\n",
       "      <td></td>\n",
       "      <td>B</td>\n",
       "      <td>FOTE, multimode heavy duty MQJs utilized</td>\n",
       "    </tr>\n",
       "    <tr>\n",
       "      <th>3</th>\n",
       "      <td></td>\n",
       "      <td>C</td>\n",
       "      <td>FOTE, multimode rotary mechanical splice MQJs ...</td>\n",
       "    </tr>\n",
       "    <tr>\n",
       "      <th>4</th>\n",
       "      <td></td>\n",
       "      <td>D</td>\n",
       "      <td>FOTE, single mode ST MQJs utilized</td>\n",
       "    </tr>\n",
       "    <tr>\n",
       "      <th>5</th>\n",
       "      <td></td>\n",
       "      <td>E</td>\n",
       "      <td>FOTE, single mode heavy duty MQJs utilized</td>\n",
       "    </tr>\n",
       "    <tr>\n",
       "      <th>6</th>\n",
       "      <td></td>\n",
       "      <td>F</td>\n",
       "      <td>FOTE, multimode specialty MQJs utilized</td>\n",
       "    </tr>\n",
       "    <tr>\n",
       "      <th>7</th>\n",
       "      <td></td>\n",
       "      <td>G</td>\n",
       "      <td>FOTE, single mode specialty MQJs utilized</td>\n",
       "    </tr>\n",
       "    <tr>\n",
       "      <th>8</th>\n",
       "      <td></td>\n",
       "      <td>H</td>\n",
       "      <td>FOTE, not available</td>\n",
       "    </tr>\n",
       "    <tr>\n",
       "      <th>9</th>\n",
       "      <td></td>\n",
       "      <td>I</td>\n",
       "      <td>Standard MQJs not available</td>\n",
       "    </tr>\n",
       "    <tr>\n",
       "      <th>10</th>\n",
       "      <td></td>\n",
       "      <td>J</td>\n",
       "      <td>Specialty MQJs not available</td>\n",
       "    </tr>\n",
       "    <tr>\n",
       "      <th>11</th>\n",
       "      <td>0</td>\n",
       "      <td>None of the Above</td>\n",
       "      <td></td>\n",
       "    </tr>\n",
       "  </tbody>\n",
       "</table>\n",
       "</div>"
      ],
      "text/plain": [
       "                                0                  1  \\\n",
       "0   Table 12 - Action Taken Codes                      \n",
       "1                            Code        Description   \n",
       "2                                                  B   \n",
       "3                                                  C   \n",
       "4                                                  D   \n",
       "5                                                  E   \n",
       "6                                                  F   \n",
       "7                                                  G   \n",
       "8                                                  H   \n",
       "9                                                  I   \n",
       "10                                                 J   \n",
       "11                              0  None of the Above   \n",
       "\n",
       "                                                    2  \n",
       "0                                                      \n",
       "1                                                      \n",
       "2            FOTE, multimode heavy duty MQJs utilized  \n",
       "3   FOTE, multimode rotary mechanical splice MQJs ...  \n",
       "4                  FOTE, single mode ST MQJs utilized  \n",
       "5          FOTE, single mode heavy duty MQJs utilized  \n",
       "6             FOTE, multimode specialty MQJs utilized  \n",
       "7           FOTE, single mode specialty MQJs utilized  \n",
       "8                                 FOTE, not available  \n",
       "9                         Standard MQJs not available  \n",
       "10                       Specialty MQJs not available  \n",
       "11                                                     "
      ]
     },
     "execution_count": 124,
     "metadata": {},
     "output_type": "execute_result"
    }
   ],
   "source": [
    "pdf_table_reader [16].df"
   ]
  },
  {
   "cell_type": "code",
   "execution_count": 129,
   "id": "36a7f861",
   "metadata": {},
   "outputs": [],
   "source": [
    "import pandas as pd\n",
    "#when discovered\n",
    "whenDisc = pdf_table_reader[0].df\n",
    "whenDisc.to_csv('data/whenDiscoveredCode.csv')\n",
    "#status\n",
    "status = pdf_table_reader[1].df\n",
    "status.to_csv('data/statusCode.csv')\n",
    "#cause\n",
    "cause = pdf_table_reader[2].df\n",
    "cause.to_csv('data/causeCode.csv')\n",
    "#deferral\n",
    "table_c3 = pdf_table_reader[3].df\n",
    "table_c41 = pdf_table_reader[4].df\n",
    "table_c42 = table_c41.drop(table_c41.index[0])\n",
    "df = pd.concat([table_c3,table_c42])\n",
    "df.to_csv('data/deferralCode.csv')\n",
    "#safety hazard\n",
    "safety = pdf_table_reader[5].df\n",
    "safety.to_csv('data/safetyHazardCode.csv')\n",
    "#alteration type\n",
    "alteration = pdf_table_reader[6].df\n",
    "alteration.to_csv('data/alterationCode.csv')\n",
    "#rank or rate\n",
    "rate = pdf_table_reader[7].df\n",
    "rate.to_csv('data/rateCode.csv')\n",
    "#priority\n",
    "priority = pdf_table_reader[8].df\n",
    "priority.to_csv('data/priorityCode.csv')\n",
    "#type availability\n",
    "type = pdf_table_reader[9].df\n",
    "type.to_csv('data/typeAvailabilityCode.csv')\n",
    "#type availability scenarios\n",
    "scenario = pdf_table_reader[10].df\n",
    "scenario.to_csv('data/typeAvailabilityScenarioCode.csv')\n",
    "#action to be taken\n",
    "table_c11 = pdf_table_reader[11].df\n",
    "table_c121 = pdf_table_reader[12].df\n",
    "table_c122 = table_c121.drop(table_c121.index[0])\n",
    "df = pd.concat([table_c11,table_c122])\n",
    "df.to_csv('data/actionToBeTakenCode.csv')\n",
    "#action taken 1\n",
    "action1 = pdf_table_reader[13].df\n",
    "\n",
    "action2 = pdf_table_reader[14].df\n",
    "action21 = action2.iloc[:5:]\n",
    "action22 = action2.iloc[5:,:]\n",
    "action21.to_csv('data/actionTakenCodes/at3_2ndCharacter.csv')\n",
    "\n",
    "action3 = pdf_table_reader[15].df\n",
    "action31 = action3.iloc[:5:]\n",
    "action32 = action3.iloc[5:,:]\n",
    "action31.to_csv('data/actionTakenCodes/at7_2ndCharacter.csv')\n",
    "\n",
    "action4 = pdf_table_reader[16].df\n",
    "action41 = action4.iloc[:11:]\n",
    "action41.loc[len(df.index)] = ['','A', 'FOTE, multimode heavy duty MQJs utilized']\n",
    "action41.to_csv('data/actionTakenCodes/at9_2ndCharacter.csv')\n",
    "action42 = action4.iloc[11:,:]\n",
    "\n",
    "action5 = pdf_table_reader[17].df\n",
    "action51 = action5.drop(action5.index[0])\n",
    "action6 = pdf_table_reader[18].df\n",
    "\n",
    "firstNumber = pd.concat([action1,action22,action32,action42,action51])\n",
    "firstNumber.to_csv('data/actionTakenCodes/actionTakenPrimaryCode.csv')\n",
    "\n"
   ]
  },
  {
   "cell_type": "code",
   "execution_count": 128,
   "id": "2274b53e",
   "metadata": {},
   "outputs": [
    {
     "name": "stderr",
     "output_type": "stream",
     "text": [
      "/tmp/ipykernel_22581/176627971.py:18: SettingWithCopyWarning: \n",
      "A value is trying to be set on a copy of a slice from a DataFrame\n",
      "\n",
      "See the caveats in the documentation: https://pandas.pydata.org/pandas-docs/stable/user_guide/indexing.html#returning-a-view-versus-a-copy\n",
      "  action41.loc[len(df.index)] = ['','A', 'FOTE, multimode heavy duty MQJs utilized']\n"
     ]
    }
   ],
   "source": [
    "\n"
   ]
  },
  {
   "cell_type": "code",
   "execution_count": 47,
   "id": "d6fc1cf3",
   "metadata": {},
   "outputs": [],
   "source": [
    "import pandas as pd\n",
    "table_c1 = pdf_table_reader[3].df\n",
    "for index in range(3,4):\n",
    "    table_c1.merge(pdf_table_reader[index].df)\n",
    "table_c1.to_csv('merge1.csv')"
   ]
  },
  {
   "cell_type": "code",
   "execution_count": 8,
   "id": "18b95325",
   "metadata": {},
   "outputs": [],
   "source": [
    "\n",
    "for index in range(0,14):\n",
    "    file_name = \"./data/2k_datastruct_\" + str(index) + \".csv\"\n",
    "    pdf_table_reader[index].df.to_csv(file_name)"
   ]
  }
 ],
 "metadata": {
  "kernelspec": {
   "display_name": "Python 3.10.6 ('pdfmunge')",
   "language": "python",
   "name": "python3"
  },
  "language_info": {
   "codemirror_mode": {
    "name": "ipython",
    "version": 3
   },
   "file_extension": ".py",
   "mimetype": "text/x-python",
   "name": "python",
   "nbconvert_exporter": "python",
   "pygments_lexer": "ipython3",
   "version": "3.10.6"
  },
  "vscode": {
   "interpreter": {
    "hash": "0cf4b5e1b20bc082f9f80c3c530d58121777aa71fd4e64b794d5ceab7a23d8ce"
   }
  }
 },
 "nbformat": 4,
 "nbformat_minor": 5
}
