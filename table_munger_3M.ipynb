{
 "cells": [
  {
   "cell_type": "markdown",
   "id": "7068e2e5",
   "metadata": {},
   "source": [
    "Goal: Automated table extraction for knowledge graph development. [Camelot](https://camelot-py.readthedocs.io/en/master/) provides tools to extract tables from pdf's to pandas data frames. The pdf is \"Appendix C\" that describes the data format for the form “OPNAV 4790/2K”. A useful [medium article](https://medium.com/@luchensf/retrieve-table-contents-from-pdf-df514b779d07) on extracting tables using Camelot."
   ]
  },
  {
   "cell_type": "markdown",
   "id": "78c0796f",
   "metadata": {},
   "source": [
    "## Install camelot from conda forge\n",
    "```bash\n",
    "mamba install -c conda-forge camelot-py\n",
    "```\n",
    "\n",
    "### Note:\n",
    "Installation using mamba from the condaforge channel installs the ghostscript gs excutable dependency in the environments bin directory which probably won't be in your path. To fix this:\n",
    "\n",
    "```bash\n",
    "export PATH=/Users/cvardema/mambaforge/envs/pdfmunge/bin:$PATH\n",
    "```\n",
    "\n",
    "Additionally and annoyingly, conda installs the python [ghostscript](https://pypi.org/project/ghostscript/) package in the user site packages directory (.local) which may not be in the python path. Here I used sys.path.insert to insert the .local/lib/python3.10/site-packages into the correct python path.\n",
    "\n",
    "Both of these paths (executable and module) must be set correctly or camelot will fail with irritating module not found error messages.\n"
   ]
  },
  {
   "cell_type": "code",
   "execution_count": 1,
   "id": "fc36dc1f",
   "metadata": {},
   "outputs": [
    {
     "name": "stdout",
     "output_type": "stream",
     "text": [
      "['/Users/ccunnin8/.local/lib/python3.10/site-packages', '/home/ccunnin8/git/decoder-ring', '/home/ccunnin8/mambaforge/envs/pdfmunge/lib/python310.zip', '/home/ccunnin8/mambaforge/envs/pdfmunge/lib/python3.10', '/home/ccunnin8/mambaforge/envs/pdfmunge/lib/python3.10/lib-dynload', '', '/home/ccunnin8/.local/lib/python3.10/site-packages', '/home/ccunnin8/mambaforge/envs/pdfmunge/lib/python3.10/site-packages']\n"
     ]
    }
   ],
   "source": [
    "!export PATH=/Users/ccunnin8/mambaforge/envs/pdfmunge/bin:$PATH\n",
    "import sys\n",
    "sys.path.insert(0, \"/Users/ccunnin8/.local/lib/python3.10/site-packages\")\n",
    "print(sys.path)"
   ]
  },
  {
   "cell_type": "code",
   "execution_count": 2,
   "id": "7242a231",
   "metadata": {},
   "outputs": [],
   "source": [
    "import camelot\n",
    "from camelot import utils\n",
    "from pathlib import Path"
   ]
  },
  {
   "cell_type": "code",
   "execution_count": 3,
   "id": "7479b620",
   "metadata": {},
   "outputs": [],
   "source": [
    "import ghostscript"
   ]
  },
  {
   "cell_type": "code",
   "execution_count": 4,
   "id": "d9543927",
   "metadata": {},
   "outputs": [],
   "source": [
    "datapath = Path('./data')\n",
    "pdf_table_reader = camelot.read_pdf('./data/data_elements.pdf',pages='all')"
   ]
  },
  {
   "cell_type": "code",
   "execution_count": 5,
   "id": "8ef2bb38",
   "metadata": {},
   "outputs": [
    {
     "name": "stdout",
     "output_type": "stream",
     "text": [
      "Number of Tables detected:  51\n",
      "{'accuracy': 100.0, 'whitespace': 0.0, 'order': 1, 'page': 2}\n"
     ]
    }
   ],
   "source": [
    "print(\"Number of Tables detected: \", pdf_table_reader.n)\n",
    "print(pdf_table_reader[0].parsing_report)"
   ]
  },
  {
   "cell_type": "markdown",
   "id": "c75c2075",
   "metadata": {},
   "source": [
    "- Pandas df index 0-14 are the \"Data elements specifications\" Table C-1 from Appendix C pp C-2 to C-15\n",
    "- Pandas df index 15-16 is Maintenance Action Codes Table C-2 pp C-16-C17\n",
    "- Pandas df index 17 is Configuration Changes Maintenance Action Codes Table C-3 pp C18\n",
    "- Pandas df index 18-19 is Other Alterations Table C-4 pp C-20 to C21\n",
    "- Pandas df index 20-21 Availability Codes Table C-5 pp C-21 to C22\n",
    "- Pandas df index 22-23 Cause Codes Table C-6 Table C-6 pp C-23 to C-24\n",
    "- Pandas df index 24-25 Deferral Reason Codes Table C-7 pp C-26 to C-27\n",
    "- Pandas df index 26 Final Action Codes Table C-8 pp C-29\n",
    "- Pandas df index 27-29 Funding Activity Codes Table C-9 pp C-29 to C-31\n",
    "- Pandas df index 30-36 IMA Repair Work Center Codes Table C-10 pp C-32 to C-38\n",
    "- Pandas df index 37 In-Progress codes Table C-11 pp C-39\n",
    "- Pandas df index 38 Key Operation Codes Table C-12 pp C-41\n",
    "- Pandas df index 39 Department Key Table C-13 pp C-42\n",
    "- Pandas df index 40 Deferred Maintenance Action Priority Table C-14 pp C-45 Note: Row 1 missing CODE 1 Mandatory from page 44.\n",
    "- Pandas df index 41 Rate Data Elements Table C-15 pp C-47\n",
    "- Pandas df index 42 Risk Assessment Codes Table C-16 pp C-50\n",
    "- Pandas df index 43-44 Screening (TYCOM) Table C-17 pp C-51 to C-52\n",
    "- Pandas df index 45-46 Special Purpose Table C-18 pp C-53 to C-54\n",
    "- Pandas df index 47 Effect of Failure Table C-19 pp C-55\n",
    "- Pandas df index 48 Availability Type Table C-20 pp C-56\n",
    "- Pandas df index 49-50 When Discovered Codes Table C-21 pp C-56\n"
   ]
  },
  {
   "cell_type": "code",
   "execution_count": 77,
   "id": "b1f7dd45",
   "metadata": {},
   "outputs": [
    {
     "data": {
      "text/html": [
       "<div>\n",
       "<style scoped>\n",
       "    .dataframe tbody tr th:only-of-type {\n",
       "        vertical-align: middle;\n",
       "    }\n",
       "\n",
       "    .dataframe tbody tr th {\n",
       "        vertical-align: top;\n",
       "    }\n",
       "\n",
       "    .dataframe thead th {\n",
       "        text-align: right;\n",
       "    }\n",
       "</style>\n",
       "<table border=\"1\" class=\"dataframe\">\n",
       "  <thead>\n",
       "    <tr style=\"text-align: right;\">\n",
       "      <th></th>\n",
       "      <th>0</th>\n",
       "      <th>1</th>\n",
       "    </tr>\n",
       "  </thead>\n",
       "  <tbody>\n",
       "    <tr>\n",
       "      <th>0</th>\n",
       "      <td>CODE</td>\n",
       "      <td>DESCRIPTION</td>\n",
       "    </tr>\n",
       "    <tr>\n",
       "      <th>1</th>\n",
       "      <td>6</td>\n",
       "      <td>During PMS</td>\n",
       "    </tr>\n",
       "    <tr>\n",
       "      <th>2</th>\n",
       "      <td>7</td>\n",
       "      <td>Securing</td>\n",
       "    </tr>\n",
       "    <tr>\n",
       "      <th>3</th>\n",
       "      <td>8</td>\n",
       "      <td>During AEC (Assessment of Equipment) Program</td>\n",
       "    </tr>\n",
       "    <tr>\n",
       "      <th>4</th>\n",
       "      <td>9</td>\n",
       "      <td>No Failure, PMS Accomplishment Only</td>\n",
       "    </tr>\n",
       "    <tr>\n",
       "      <th>5</th>\n",
       "      <td>0</td>\n",
       "      <td>Not Applicable (use when reporting printing se...</td>\n",
       "    </tr>\n",
       "  </tbody>\n",
       "</table>\n",
       "</div>"
      ],
      "text/plain": [
       "      0                                                  1\n",
       "0  CODE                                        DESCRIPTION\n",
       "1     6                                         During PMS\n",
       "2     7                                           Securing\n",
       "3     8       During AEC (Assessment of Equipment) Program\n",
       "4     9                No Failure, PMS Accomplishment Only\n",
       "5     0  Not Applicable (use when reporting printing se..."
      ]
     },
     "execution_count": 77,
     "metadata": {},
     "output_type": "execute_result"
    }
   ],
   "source": [
    "pdf_table_reader[50].df"
   ]
  },
  {
   "cell_type": "code",
   "execution_count": 76,
   "id": "d6fc1cf3",
   "metadata": {},
   "outputs": [],
   "source": [
    "import pandas as pd\n",
    "table_c1 = pdf_table_reader[0].df\n",
    "for index in range(1,14):\n",
    "    table_c1.merge(pdf_table_reader[index].df)\n",
    "table_c1.to_csv('junk.csv')"
   ]
  },
  {
   "cell_type": "code",
   "execution_count": 15,
   "id": "18b95325",
   "metadata": {},
   "outputs": [],
   "source": [
    "\n",
    "for index in range(0,14):\n",
    "    file_name = \"./data/2k_datastruct_\" + str(index) + \".csv\"\n",
    "    pdf_table_reader[index].df.to_csv(file_name)"
   ]
  }
 ],
 "metadata": {
  "kernelspec": {
   "display_name": "Python 3.8.10 64-bit",
   "language": "python",
   "name": "python3"
  },
  "language_info": {
   "codemirror_mode": {
    "name": "ipython",
    "version": 3
   },
   "file_extension": ".py",
   "mimetype": "text/x-python",
   "name": "python",
   "nbconvert_exporter": "python",
   "pygments_lexer": "ipython3",
   "version": "3.8.10"
  },
  "vscode": {
   "interpreter": {
    "hash": "916dbcbb3f70747c44a77c7bcd40155683ae19c65e1c03b4aa3499c5328201f1"
   }
  }
 },
 "nbformat": 4,
 "nbformat_minor": 5
}
