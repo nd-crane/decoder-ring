{
 "cells": [
  {
   "cell_type": "markdown",
   "id": "7068e2e5",
   "metadata": {},
   "source": [
    "Goal: Automated table extraction for knowledge graph development. [Camelot](https://camelot-py.readthedocs.io/en/master/) provides tools to extract tables from pdf's to pandas data frames. The pdf is \"Appendix C\" that describes the data format for the form “OPNAV 4790/2K”. A useful [medium article](https://medium.com/@luchensf/retrieve-table-contents-from-pdf-df514b779d07) on extracting tables using Camelot."
   ]
  },
  {
   "cell_type": "markdown",
   "id": "0c90d551",
   "metadata": {},
   "source": [
    "## Install camelot from conda forge\n",
    "```bash\n",
    "mamba install -c conda-forge camelot-py\n",
    "```\n",
    "\n",
    "### Note:\n",
    "Installation using mamba from the condaforge channel installs the ghostscript gs excutable dependency in the environments bin directory which probably won't be in your path. To fix this:\n",
    "\n",
    "```bash\n",
    "export PATH=/Users/cvardema/mambaforge/envs/pdfmunge/bin:$PATH\n",
    "```\n",
    "\n",
    "Additionally and annoyingly, conda installs the python [ghostscript](https://pypi.org/project/ghostscript/) package in the user site packages directory (.local) which may not be in the python path. Here I used sys.path.insert to insert the .local/lib/python3.10/site-packages into the correct python path.\n",
    "\n",
    "Both of these paths (executable and module) must be set correctly or camelot will fail with irritating module not found error messages.\n"
   ]
  },
  {
   "cell_type": "code",
   "execution_count": 1,
   "id": "7242a231",
   "metadata": {},
   "outputs": [],
   "source": [
    "import camelot\n",
    "from camelot import utils\n",
    "from pathlib import Path"
   ]
  },
  {
   "cell_type": "code",
   "execution_count": 5,
   "id": "e373b237",
   "metadata": {},
   "outputs": [
    {
     "name": "stdout",
     "output_type": "stream",
     "text": [
      "['/Users/cvardema/.local/lib/python3.10/site-packages', '/Users/cvardema/Development/notebooks/nd-crane/decoder-ring', '/Users/cvardema/mambaforge/envs/pdfmunge/lib/python310.zip', '/Users/cvardema/mambaforge/envs/pdfmunge/lib/python3.10', '/Users/cvardema/mambaforge/envs/pdfmunge/lib/python3.10/lib-dynload', '', '/Users/cvardema/mambaforge/envs/pdfmunge/lib/python3.10/site-packages']\n"
     ]
    }
   ],
   "source": [
    "import sys\n",
    "sys.path.insert(0, \"/Users/cvardema/.local/lib/python3.10/site-packages\")\n",
    "print(sys.path)"
   ]
  },
  {
   "cell_type": "code",
   "execution_count": 6,
   "id": "0aa84558",
   "metadata": {},
   "outputs": [],
   "source": [
    "import ghostscript"
   ]
  },
  {
   "cell_type": "code",
   "execution_count": 7,
   "id": "d9543927",
   "metadata": {},
   "outputs": [],
   "source": [
    "datapath = Path('./data')\n",
    "pdf_table_reader = camelot.read_pdf('./data/data_elements.pdf',pages='all')"
   ]
  },
  {
   "cell_type": "code",
   "execution_count": 8,
   "id": "8ef2bb38",
   "metadata": {},
   "outputs": [
    {
     "name": "stdout",
     "output_type": "stream",
     "text": [
      "Number of Tables detected:  51\n",
      "{'accuracy': 100.0, 'whitespace': 0.0, 'order': 1, 'page': 2}\n"
     ]
    }
   ],
   "source": [
    "print(\"Number of Tables detected: \", pdf_table_reader.n)\n",
    "print(pdf_table_reader[0].parsing_report)"
   ]
  },
  {
   "cell_type": "code",
   "execution_count": 19,
   "id": "a93448b0",
   "metadata": {},
   "outputs": [
    {
     "data": {
      "text/html": [
       "<div>\n",
       "<style scoped>\n",
       "    .dataframe tbody tr th:only-of-type {\n",
       "        vertical-align: middle;\n",
       "    }\n",
       "\n",
       "    .dataframe tbody tr th {\n",
       "        vertical-align: top;\n",
       "    }\n",
       "\n",
       "    .dataframe thead th {\n",
       "        text-align: right;\n",
       "    }\n",
       "</style>\n",
       "<table border=\"1\" class=\"dataframe\">\n",
       "  <thead>\n",
       "    <tr style=\"text-align: right;\">\n",
       "      <th></th>\n",
       "      <th>0</th>\n",
       "      <th>1</th>\n",
       "    </tr>\n",
       "  </thead>\n",
       "  <tbody>\n",
       "    <tr>\n",
       "      <th>0</th>\n",
       "      <td>CODE</td>\n",
       "      <td>DESCRIPTION</td>\n",
       "    </tr>\n",
       "    <tr>\n",
       "      <th>1</th>\n",
       "      <td>6D</td>\n",
       "      <td>Not Cost Effective</td>\n",
       "    </tr>\n",
       "    <tr>\n",
       "      <th>2</th>\n",
       "      <td>6E</td>\n",
       "      <td>General</td>\n",
       "    </tr>\n",
       "    <tr>\n",
       "      <th>3</th>\n",
       "      <td>8*</td>\n",
       "      <td>Disapproved</td>\n",
       "    </tr>\n",
       "    <tr>\n",
       "      <th>4</th>\n",
       "      <td>9**</td>\n",
       "      <td>Remove from CSMP.  Pass to history (to be assi...</td>\n",
       "    </tr>\n",
       "    <tr>\n",
       "      <th>5</th>\n",
       "      <td>* This screening code disapproves the accompli...</td>\n",
       "      <td></td>\n",
       "    </tr>\n",
       "    <tr>\n",
       "      <th>6</th>\n",
       "      <td>** This screening code is restricted to the re...</td>\n",
       "      <td></td>\n",
       "    </tr>\n",
       "  </tbody>\n",
       "</table>\n",
       "</div>"
      ],
      "text/plain": [
       "                                                   0  \\\n",
       "0                                               CODE   \n",
       "1                                                 6D   \n",
       "2                                                 6E   \n",
       "3                                                 8*   \n",
       "4                                                9**   \n",
       "5  * This screening code disapproves the accompli...   \n",
       "6  ** This screening code is restricted to the re...   \n",
       "\n",
       "                                                   1  \n",
       "0                                        DESCRIPTION  \n",
       "1                                 Not Cost Effective  \n",
       "2                                            General  \n",
       "3                                        Disapproved  \n",
       "4  Remove from CSMP.  Pass to history (to be assi...  \n",
       "5                                                     \n",
       "6                                                     "
      ]
     },
     "execution_count": 19,
     "metadata": {},
     "output_type": "execute_result"
    }
   ],
   "source": [
    "pdf_table_reader[44].df"
   ]
  },
  {
   "cell_type": "code",
   "execution_count": null,
   "id": "1f444140",
   "metadata": {},
   "outputs": [],
   "source": []
  }
 ],
 "metadata": {
  "kernelspec": {
   "display_name": "Python 3 (ipykernel)",
   "language": "python",
   "name": "python3"
  },
  "language_info": {
   "codemirror_mode": {
    "name": "ipython",
    "version": 3
   },
   "file_extension": ".py",
   "mimetype": "text/x-python",
   "name": "python",
   "nbconvert_exporter": "python",
   "pygments_lexer": "ipython3",
   "version": "3.10.6"
  }
 },
 "nbformat": 4,
 "nbformat_minor": 5
}
